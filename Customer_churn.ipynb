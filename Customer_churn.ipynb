{
  "nbformat": 4,
  "nbformat_minor": 0,
  "metadata": {
    "colab": {
      "provenance": [],
      "authorship_tag": "ABX9TyMmY7f8YBGraWzvcKUFGNM1",
      "include_colab_link": true
    },
    "kernelspec": {
      "name": "python3",
      "display_name": "Python 3"
    },
    "language_info": {
      "name": "python"
    }
  },
  "cells": [
    {
      "cell_type": "markdown",
      "metadata": {
        "id": "view-in-github",
        "colab_type": "text"
      },
      "source": [
        "<a href=\"https://colab.research.google.com/github/Seenuprime/Data-Analytics/blob/main/Customer_churn.ipynb\" target=\"_parent\"><img src=\"https://colab.research.google.com/assets/colab-badge.svg\" alt=\"Open In Colab\"/></a>"
      ]
    },
    {
      "cell_type": "code",
      "execution_count": 70,
      "metadata": {
        "id": "9AD-uY0mmy67"
      },
      "outputs": [],
      "source": [
        "import pandas as pd\n",
        "import numpy as np\n",
        "import matplotlib.pyplot as plt\n",
        "import random\n",
        "import seaborn as sns"
      ]
    },
    {
      "cell_type": "code",
      "source": [
        "!kaggle datasets download -d alfathterry/telco-customer-churn-11-1-3"
      ],
      "metadata": {
        "colab": {
          "base_uri": "https://localhost:8080/"
        },
        "id": "49nM9qcGnb2a",
        "outputId": "f3817cbb-672b-4163-f73d-9e5051b47159"
      },
      "execution_count": null,
      "outputs": [
        {
          "output_type": "stream",
          "name": "stdout",
          "text": [
            "Dataset URL: https://www.kaggle.com/datasets/alfathterry/telco-customer-churn-11-1-3\n",
            "License(s): MIT\n",
            "Downloading telco-customer-churn-11-1-3.zip to /content\n",
            "  0% 0.00/513k [00:00<?, ?B/s]\n",
            "100% 513k/513k [00:00<00:00, 82.3MB/s]\n"
          ]
        }
      ]
    },
    {
      "cell_type": "code",
      "source": [
        "import zipfile\n",
        "\n",
        "zip_dir = zipfile.ZipFile('/content/telco-customer-churn-11-1-3.zip')\n",
        "zip_dir.extractall()\n",
        "zip_dir.close()"
      ],
      "metadata": {
        "id": "QfrfNHIjnh-0"
      },
      "execution_count": null,
      "outputs": []
    },
    {
      "cell_type": "code",
      "source": [
        "df = pd.read_csv(r'telco.csv')\n",
        "df.head()"
      ],
      "metadata": {
        "colab": {
          "base_uri": "https://localhost:8080/",
          "height": 464
        },
        "id": "PIUFyx7moXQD",
        "outputId": "3fc36646-82a7-48bb-8b44-292f40c9b1e1"
      },
      "execution_count": null,
      "outputs": [
        {
          "output_type": "execute_result",
          "data": {
            "text/plain": [
              "  Customer ID  Gender  Age Under 30 Senior Citizen Married Dependents  \\\n",
              "0  8779-QRDMV    Male   78       No            Yes      No         No   \n",
              "1  7495-OOKFY  Female   74       No            Yes     Yes        Yes   \n",
              "2  1658-BYGOY    Male   71       No            Yes      No        Yes   \n",
              "3  4598-XLKNJ  Female   78       No            Yes     Yes        Yes   \n",
              "4  4846-WHAFZ  Female   80       No            Yes     Yes        Yes   \n",
              "\n",
              "   Number of Dependents        Country       State  ...  \\\n",
              "0                     0  United States  California  ...   \n",
              "1                     1  United States  California  ...   \n",
              "2                     3  United States  California  ...   \n",
              "3                     1  United States  California  ...   \n",
              "4                     1  United States  California  ...   \n",
              "\n",
              "  Total Extra Data Charges  Total Long Distance Charges  Total Revenue  \\\n",
              "0                       20                         0.00          59.65   \n",
              "1                        0                       390.80        1024.10   \n",
              "2                        0                       203.94        1910.88   \n",
              "3                        0                       494.00        2995.07   \n",
              "4                        0                       234.21        3102.36   \n",
              "\n",
              "   Satisfaction Score  Customer Status Churn Label Churn Score  CLTV  \\\n",
              "0                   3          Churned         Yes          91  5433   \n",
              "1                   3          Churned         Yes          69  5302   \n",
              "2                   2          Churned         Yes          81  3179   \n",
              "3                   2          Churned         Yes          88  5337   \n",
              "4                   2          Churned         Yes          67  2793   \n",
              "\n",
              "    Churn Category                  Churn Reason  \n",
              "0       Competitor  Competitor offered more data  \n",
              "1       Competitor  Competitor made better offer  \n",
              "2       Competitor  Competitor made better offer  \n",
              "3  Dissatisfaction     Limited range of services  \n",
              "4            Price            Extra data charges  \n",
              "\n",
              "[5 rows x 50 columns]"
            ],
            "text/html": [
              "\n",
              "  <div id=\"df-f77e6ad0-085e-4fb3-a201-357519a24302\" class=\"colab-df-container\">\n",
              "    <div>\n",
              "<style scoped>\n",
              "    .dataframe tbody tr th:only-of-type {\n",
              "        vertical-align: middle;\n",
              "    }\n",
              "\n",
              "    .dataframe tbody tr th {\n",
              "        vertical-align: top;\n",
              "    }\n",
              "\n",
              "    .dataframe thead th {\n",
              "        text-align: right;\n",
              "    }\n",
              "</style>\n",
              "<table border=\"1\" class=\"dataframe\">\n",
              "  <thead>\n",
              "    <tr style=\"text-align: right;\">\n",
              "      <th></th>\n",
              "      <th>Customer ID</th>\n",
              "      <th>Gender</th>\n",
              "      <th>Age</th>\n",
              "      <th>Under 30</th>\n",
              "      <th>Senior Citizen</th>\n",
              "      <th>Married</th>\n",
              "      <th>Dependents</th>\n",
              "      <th>Number of Dependents</th>\n",
              "      <th>Country</th>\n",
              "      <th>State</th>\n",
              "      <th>...</th>\n",
              "      <th>Total Extra Data Charges</th>\n",
              "      <th>Total Long Distance Charges</th>\n",
              "      <th>Total Revenue</th>\n",
              "      <th>Satisfaction Score</th>\n",
              "      <th>Customer Status</th>\n",
              "      <th>Churn Label</th>\n",
              "      <th>Churn Score</th>\n",
              "      <th>CLTV</th>\n",
              "      <th>Churn Category</th>\n",
              "      <th>Churn Reason</th>\n",
              "    </tr>\n",
              "  </thead>\n",
              "  <tbody>\n",
              "    <tr>\n",
              "      <th>0</th>\n",
              "      <td>8779-QRDMV</td>\n",
              "      <td>Male</td>\n",
              "      <td>78</td>\n",
              "      <td>No</td>\n",
              "      <td>Yes</td>\n",
              "      <td>No</td>\n",
              "      <td>No</td>\n",
              "      <td>0</td>\n",
              "      <td>United States</td>\n",
              "      <td>California</td>\n",
              "      <td>...</td>\n",
              "      <td>20</td>\n",
              "      <td>0.00</td>\n",
              "      <td>59.65</td>\n",
              "      <td>3</td>\n",
              "      <td>Churned</td>\n",
              "      <td>Yes</td>\n",
              "      <td>91</td>\n",
              "      <td>5433</td>\n",
              "      <td>Competitor</td>\n",
              "      <td>Competitor offered more data</td>\n",
              "    </tr>\n",
              "    <tr>\n",
              "      <th>1</th>\n",
              "      <td>7495-OOKFY</td>\n",
              "      <td>Female</td>\n",
              "      <td>74</td>\n",
              "      <td>No</td>\n",
              "      <td>Yes</td>\n",
              "      <td>Yes</td>\n",
              "      <td>Yes</td>\n",
              "      <td>1</td>\n",
              "      <td>United States</td>\n",
              "      <td>California</td>\n",
              "      <td>...</td>\n",
              "      <td>0</td>\n",
              "      <td>390.80</td>\n",
              "      <td>1024.10</td>\n",
              "      <td>3</td>\n",
              "      <td>Churned</td>\n",
              "      <td>Yes</td>\n",
              "      <td>69</td>\n",
              "      <td>5302</td>\n",
              "      <td>Competitor</td>\n",
              "      <td>Competitor made better offer</td>\n",
              "    </tr>\n",
              "    <tr>\n",
              "      <th>2</th>\n",
              "      <td>1658-BYGOY</td>\n",
              "      <td>Male</td>\n",
              "      <td>71</td>\n",
              "      <td>No</td>\n",
              "      <td>Yes</td>\n",
              "      <td>No</td>\n",
              "      <td>Yes</td>\n",
              "      <td>3</td>\n",
              "      <td>United States</td>\n",
              "      <td>California</td>\n",
              "      <td>...</td>\n",
              "      <td>0</td>\n",
              "      <td>203.94</td>\n",
              "      <td>1910.88</td>\n",
              "      <td>2</td>\n",
              "      <td>Churned</td>\n",
              "      <td>Yes</td>\n",
              "      <td>81</td>\n",
              "      <td>3179</td>\n",
              "      <td>Competitor</td>\n",
              "      <td>Competitor made better offer</td>\n",
              "    </tr>\n",
              "    <tr>\n",
              "      <th>3</th>\n",
              "      <td>4598-XLKNJ</td>\n",
              "      <td>Female</td>\n",
              "      <td>78</td>\n",
              "      <td>No</td>\n",
              "      <td>Yes</td>\n",
              "      <td>Yes</td>\n",
              "      <td>Yes</td>\n",
              "      <td>1</td>\n",
              "      <td>United States</td>\n",
              "      <td>California</td>\n",
              "      <td>...</td>\n",
              "      <td>0</td>\n",
              "      <td>494.00</td>\n",
              "      <td>2995.07</td>\n",
              "      <td>2</td>\n",
              "      <td>Churned</td>\n",
              "      <td>Yes</td>\n",
              "      <td>88</td>\n",
              "      <td>5337</td>\n",
              "      <td>Dissatisfaction</td>\n",
              "      <td>Limited range of services</td>\n",
              "    </tr>\n",
              "    <tr>\n",
              "      <th>4</th>\n",
              "      <td>4846-WHAFZ</td>\n",
              "      <td>Female</td>\n",
              "      <td>80</td>\n",
              "      <td>No</td>\n",
              "      <td>Yes</td>\n",
              "      <td>Yes</td>\n",
              "      <td>Yes</td>\n",
              "      <td>1</td>\n",
              "      <td>United States</td>\n",
              "      <td>California</td>\n",
              "      <td>...</td>\n",
              "      <td>0</td>\n",
              "      <td>234.21</td>\n",
              "      <td>3102.36</td>\n",
              "      <td>2</td>\n",
              "      <td>Churned</td>\n",
              "      <td>Yes</td>\n",
              "      <td>67</td>\n",
              "      <td>2793</td>\n",
              "      <td>Price</td>\n",
              "      <td>Extra data charges</td>\n",
              "    </tr>\n",
              "  </tbody>\n",
              "</table>\n",
              "<p>5 rows × 50 columns</p>\n",
              "</div>\n",
              "    <div class=\"colab-df-buttons\">\n",
              "\n",
              "  <div class=\"colab-df-container\">\n",
              "    <button class=\"colab-df-convert\" onclick=\"convertToInteractive('df-f77e6ad0-085e-4fb3-a201-357519a24302')\"\n",
              "            title=\"Convert this dataframe to an interactive table.\"\n",
              "            style=\"display:none;\">\n",
              "\n",
              "  <svg xmlns=\"http://www.w3.org/2000/svg\" height=\"24px\" viewBox=\"0 -960 960 960\">\n",
              "    <path d=\"M120-120v-720h720v720H120Zm60-500h600v-160H180v160Zm220 220h160v-160H400v160Zm0 220h160v-160H400v160ZM180-400h160v-160H180v160Zm440 0h160v-160H620v160ZM180-180h160v-160H180v160Zm440 0h160v-160H620v160Z\"/>\n",
              "  </svg>\n",
              "    </button>\n",
              "\n",
              "  <style>\n",
              "    .colab-df-container {\n",
              "      display:flex;\n",
              "      gap: 12px;\n",
              "    }\n",
              "\n",
              "    .colab-df-convert {\n",
              "      background-color: #E8F0FE;\n",
              "      border: none;\n",
              "      border-radius: 50%;\n",
              "      cursor: pointer;\n",
              "      display: none;\n",
              "      fill: #1967D2;\n",
              "      height: 32px;\n",
              "      padding: 0 0 0 0;\n",
              "      width: 32px;\n",
              "    }\n",
              "\n",
              "    .colab-df-convert:hover {\n",
              "      background-color: #E2EBFA;\n",
              "      box-shadow: 0px 1px 2px rgba(60, 64, 67, 0.3), 0px 1px 3px 1px rgba(60, 64, 67, 0.15);\n",
              "      fill: #174EA6;\n",
              "    }\n",
              "\n",
              "    .colab-df-buttons div {\n",
              "      margin-bottom: 4px;\n",
              "    }\n",
              "\n",
              "    [theme=dark] .colab-df-convert {\n",
              "      background-color: #3B4455;\n",
              "      fill: #D2E3FC;\n",
              "    }\n",
              "\n",
              "    [theme=dark] .colab-df-convert:hover {\n",
              "      background-color: #434B5C;\n",
              "      box-shadow: 0px 1px 3px 1px rgba(0, 0, 0, 0.15);\n",
              "      filter: drop-shadow(0px 1px 2px rgba(0, 0, 0, 0.3));\n",
              "      fill: #FFFFFF;\n",
              "    }\n",
              "  </style>\n",
              "\n",
              "    <script>\n",
              "      const buttonEl =\n",
              "        document.querySelector('#df-f77e6ad0-085e-4fb3-a201-357519a24302 button.colab-df-convert');\n",
              "      buttonEl.style.display =\n",
              "        google.colab.kernel.accessAllowed ? 'block' : 'none';\n",
              "\n",
              "      async function convertToInteractive(key) {\n",
              "        const element = document.querySelector('#df-f77e6ad0-085e-4fb3-a201-357519a24302');\n",
              "        const dataTable =\n",
              "          await google.colab.kernel.invokeFunction('convertToInteractive',\n",
              "                                                    [key], {});\n",
              "        if (!dataTable) return;\n",
              "\n",
              "        const docLinkHtml = 'Like what you see? Visit the ' +\n",
              "          '<a target=\"_blank\" href=https://colab.research.google.com/notebooks/data_table.ipynb>data table notebook</a>'\n",
              "          + ' to learn more about interactive tables.';\n",
              "        element.innerHTML = '';\n",
              "        dataTable['output_type'] = 'display_data';\n",
              "        await google.colab.output.renderOutput(dataTable, element);\n",
              "        const docLink = document.createElement('div');\n",
              "        docLink.innerHTML = docLinkHtml;\n",
              "        element.appendChild(docLink);\n",
              "      }\n",
              "    </script>\n",
              "  </div>\n",
              "\n",
              "\n",
              "<div id=\"df-9354916e-e71e-48c1-826a-16147ccfff22\">\n",
              "  <button class=\"colab-df-quickchart\" onclick=\"quickchart('df-9354916e-e71e-48c1-826a-16147ccfff22')\"\n",
              "            title=\"Suggest charts\"\n",
              "            style=\"display:none;\">\n",
              "\n",
              "<svg xmlns=\"http://www.w3.org/2000/svg\" height=\"24px\"viewBox=\"0 0 24 24\"\n",
              "     width=\"24px\">\n",
              "    <g>\n",
              "        <path d=\"M19 3H5c-1.1 0-2 .9-2 2v14c0 1.1.9 2 2 2h14c1.1 0 2-.9 2-2V5c0-1.1-.9-2-2-2zM9 17H7v-7h2v7zm4 0h-2V7h2v10zm4 0h-2v-4h2v4z\"/>\n",
              "    </g>\n",
              "</svg>\n",
              "  </button>\n",
              "\n",
              "<style>\n",
              "  .colab-df-quickchart {\n",
              "      --bg-color: #E8F0FE;\n",
              "      --fill-color: #1967D2;\n",
              "      --hover-bg-color: #E2EBFA;\n",
              "      --hover-fill-color: #174EA6;\n",
              "      --disabled-fill-color: #AAA;\n",
              "      --disabled-bg-color: #DDD;\n",
              "  }\n",
              "\n",
              "  [theme=dark] .colab-df-quickchart {\n",
              "      --bg-color: #3B4455;\n",
              "      --fill-color: #D2E3FC;\n",
              "      --hover-bg-color: #434B5C;\n",
              "      --hover-fill-color: #FFFFFF;\n",
              "      --disabled-bg-color: #3B4455;\n",
              "      --disabled-fill-color: #666;\n",
              "  }\n",
              "\n",
              "  .colab-df-quickchart {\n",
              "    background-color: var(--bg-color);\n",
              "    border: none;\n",
              "    border-radius: 50%;\n",
              "    cursor: pointer;\n",
              "    display: none;\n",
              "    fill: var(--fill-color);\n",
              "    height: 32px;\n",
              "    padding: 0;\n",
              "    width: 32px;\n",
              "  }\n",
              "\n",
              "  .colab-df-quickchart:hover {\n",
              "    background-color: var(--hover-bg-color);\n",
              "    box-shadow: 0 1px 2px rgba(60, 64, 67, 0.3), 0 1px 3px 1px rgba(60, 64, 67, 0.15);\n",
              "    fill: var(--button-hover-fill-color);\n",
              "  }\n",
              "\n",
              "  .colab-df-quickchart-complete:disabled,\n",
              "  .colab-df-quickchart-complete:disabled:hover {\n",
              "    background-color: var(--disabled-bg-color);\n",
              "    fill: var(--disabled-fill-color);\n",
              "    box-shadow: none;\n",
              "  }\n",
              "\n",
              "  .colab-df-spinner {\n",
              "    border: 2px solid var(--fill-color);\n",
              "    border-color: transparent;\n",
              "    border-bottom-color: var(--fill-color);\n",
              "    animation:\n",
              "      spin 1s steps(1) infinite;\n",
              "  }\n",
              "\n",
              "  @keyframes spin {\n",
              "    0% {\n",
              "      border-color: transparent;\n",
              "      border-bottom-color: var(--fill-color);\n",
              "      border-left-color: var(--fill-color);\n",
              "    }\n",
              "    20% {\n",
              "      border-color: transparent;\n",
              "      border-left-color: var(--fill-color);\n",
              "      border-top-color: var(--fill-color);\n",
              "    }\n",
              "    30% {\n",
              "      border-color: transparent;\n",
              "      border-left-color: var(--fill-color);\n",
              "      border-top-color: var(--fill-color);\n",
              "      border-right-color: var(--fill-color);\n",
              "    }\n",
              "    40% {\n",
              "      border-color: transparent;\n",
              "      border-right-color: var(--fill-color);\n",
              "      border-top-color: var(--fill-color);\n",
              "    }\n",
              "    60% {\n",
              "      border-color: transparent;\n",
              "      border-right-color: var(--fill-color);\n",
              "    }\n",
              "    80% {\n",
              "      border-color: transparent;\n",
              "      border-right-color: var(--fill-color);\n",
              "      border-bottom-color: var(--fill-color);\n",
              "    }\n",
              "    90% {\n",
              "      border-color: transparent;\n",
              "      border-bottom-color: var(--fill-color);\n",
              "    }\n",
              "  }\n",
              "</style>\n",
              "\n",
              "  <script>\n",
              "    async function quickchart(key) {\n",
              "      const quickchartButtonEl =\n",
              "        document.querySelector('#' + key + ' button');\n",
              "      quickchartButtonEl.disabled = true;  // To prevent multiple clicks.\n",
              "      quickchartButtonEl.classList.add('colab-df-spinner');\n",
              "      try {\n",
              "        const charts = await google.colab.kernel.invokeFunction(\n",
              "            'suggestCharts', [key], {});\n",
              "      } catch (error) {\n",
              "        console.error('Error during call to suggestCharts:', error);\n",
              "      }\n",
              "      quickchartButtonEl.classList.remove('colab-df-spinner');\n",
              "      quickchartButtonEl.classList.add('colab-df-quickchart-complete');\n",
              "    }\n",
              "    (() => {\n",
              "      let quickchartButtonEl =\n",
              "        document.querySelector('#df-9354916e-e71e-48c1-826a-16147ccfff22 button');\n",
              "      quickchartButtonEl.style.display =\n",
              "        google.colab.kernel.accessAllowed ? 'block' : 'none';\n",
              "    })();\n",
              "  </script>\n",
              "</div>\n",
              "\n",
              "    </div>\n",
              "  </div>\n"
            ],
            "application/vnd.google.colaboratory.intrinsic+json": {
              "type": "dataframe",
              "variable_name": "df"
            }
          },
          "metadata": {},
          "execution_count": 5
        }
      ]
    },
    {
      "cell_type": "code",
      "source": [
        "df.columns"
      ],
      "metadata": {
        "colab": {
          "base_uri": "https://localhost:8080/"
        },
        "id": "SB2WiH3vonAW",
        "outputId": "e306db08-d5b0-4db4-cf65-4567eb07effa"
      },
      "execution_count": null,
      "outputs": [
        {
          "output_type": "execute_result",
          "data": {
            "text/plain": [
              "Index(['Customer ID', 'Gender', 'Age', 'Under 30', 'Senior Citizen', 'Married',\n",
              "       'Dependents', 'Number of Dependents', 'Country', 'State', 'City',\n",
              "       'Zip Code', 'Latitude', 'Longitude', 'Population', 'Quarter',\n",
              "       'Referred a Friend', 'Number of Referrals', 'Tenure in Months', 'Offer',\n",
              "       'Phone Service', 'Avg Monthly Long Distance Charges', 'Multiple Lines',\n",
              "       'Internet Service', 'Internet Type', 'Avg Monthly GB Download',\n",
              "       'Online Security', 'Online Backup', 'Device Protection Plan',\n",
              "       'Premium Tech Support', 'Streaming TV', 'Streaming Movies',\n",
              "       'Streaming Music', 'Unlimited Data', 'Contract', 'Paperless Billing',\n",
              "       'Payment Method', 'Monthly Charge', 'Total Charges', 'Total Refunds',\n",
              "       'Total Extra Data Charges', 'Total Long Distance Charges',\n",
              "       'Total Revenue', 'Satisfaction Score', 'Customer Status', 'Churn Label',\n",
              "       'Churn Score', 'CLTV', 'Churn Category', 'Churn Reason'],\n",
              "      dtype='object')"
            ]
          },
          "metadata": {},
          "execution_count": 6
        }
      ]
    },
    {
      "cell_type": "code",
      "source": [
        "df.Gender.value_counts().plot(kind='bar')\n",
        "plt.tight_layout()"
      ],
      "metadata": {
        "colab": {
          "base_uri": "https://localhost:8080/",
          "height": 507
        },
        "id": "XYW0APbdATtn",
        "outputId": "ad8e522c-e77f-4788-e23c-7c69d2a3e3df"
      },
      "execution_count": null,
      "outputs": [
        {
          "output_type": "display_data",
          "data": {
            "text/plain": [
              "<Figure size 640x480 with 1 Axes>"
            ],
            "image/png": "[encoded data removed]"
          },
          "metadata": {}
        }
      ]
    },
    {
      "cell_type": "code",
      "source": [
        "hist, bin_edges = np.histogram(df.Age, 20)\n",
        "hist, bin_edges"
      ],
      "metadata": {
        "colab": {
          "base_uri": "https://localhost:8080/"
        },
        "id": "P-0ITWSMBo1T",
        "outputId": "295c2e24-ea73-42c2-bf62-1f7d6dfe18d5"
      },
      "execution_count": 108,
      "outputs": [
        {
          "output_type": "execute_result",
          "data": {
            "text/plain": [
              "(array([524, 393, 366, 365, 379, 375, 415, 379, 395, 418, 361, 384, 385,\n",
              "        380, 382, 203, 232, 211, 219, 277]),\n",
              " array([19.  , 22.05, 25.1 , 28.15, 31.2 , 34.25, 37.3 , 40.35, 43.4 ,\n",
              "        46.45, 49.5 , 52.55, 55.6 , 58.65, 61.7 , 64.75, 67.8 , 70.85,\n",
              "        73.9 , 76.95, 80.  ]))"
            ]
          },
          "metadata": {},
          "execution_count": 108
        }
      ]
    },
    {
      "cell_type": "code",
      "source": [
        "plt.figure(figsize=(20, 8))\n",
        "plt.grid()\n",
        "df['Age'].plot(kind='hist', xticks=bin_edges, grid=True)\n",
        "plt.xlabel('Age')\n",
        "plt.tight_layout()"
      ],
      "metadata": {
        "colab": {
          "base_uri": "https://localhost:8080/",
          "height": 586
        },
        "id": "0acXazgDDELi",
        "outputId": "a656388a-b1af-47fb-c611-a0fdfdfa5d1d"
      },
      "execution_count": 87,
      "outputs": [
        {
          "output_type": "display_data",
          "data": {
            "text/plain": [
              "<Figure size 2000x800 with 1 Axes>"
            ],
            "image/png": "[encoded data removed]"
          },
          "metadata": {}
        }
      ]
    },
    {
      "cell_type": "code",
      "source": [
        "df['Senior Citizen'].value_counts()"
      ],
      "metadata": {
        "colab": {
          "base_uri": "https://localhost:8080/",
          "height": 198
        },
        "id": "5lLqgeqCQj4_",
        "outputId": "a67a0084-6b81-46b4-b77c-a0abbe2df243"
      },
      "execution_count": 96,
      "outputs": [
        {
          "output_type": "execute_result",
          "data": {
            "text/plain": [
              "Senior Citizen\n",
              "No     5901\n",
              "Yes    1142\n",
              "Name: count, dtype: int64"
            ],
            "text/html": [
              "<table border=\"1\" class=\"dataframe\">\n",
              "  <thead>\n",
              "    <tr style=\"text-align: right;\">\n",
              "      <th></th>\n",
              "      <th>count</th>\n",
              "    </tr>\n",
              "    <tr>\n",
              "      <th>Senior Citizen</th>\n",
              "      <th></th>\n",
              "    </tr>\n",
              "  </thead>\n",
              "  <tbody>\n",
              "    <tr>\n",
              "      <th>No</th>\n",
              "      <td>5901</td>\n",
              "    </tr>\n",
              "    <tr>\n",
              "      <th>Yes</th>\n",
              "      <td>1142</td>\n",
              "    </tr>\n",
              "  </tbody>\n",
              "</table><br><label><b>dtype:</b> int64</label>"
            ]
          },
          "metadata": {},
          "execution_count": 96
        }
      ]
    },
    {
      "cell_type": "code",
      "source": [
        "df['Senior Citizen'].value_counts().plot(kind='bar')\n",
        "plt.tight_layout()"
      ],
      "metadata": {
        "colab": {
          "base_uri": "https://localhost:8080/",
          "height": 507
        },
        "id": "EaXe0u9fPuY3",
        "outputId": "70cafa3c-e742-4466-ce70-731624b175d5"
      },
      "execution_count": 95,
      "outputs": [
        {
          "output_type": "display_data",
          "data": {
            "text/plain": [
              "<Figure size 640x480 with 1 Axes>"
            ],
            "image/png": "[encoded data removed]"
          },
          "metadata": {}
        }
      ]
    },
    {
      "cell_type": "code",
      "source": [
        "df.Married.value_counts()"
      ],
      "metadata": {
        "colab": {
          "base_uri": "https://localhost:8080/",
          "height": 198
        },
        "id": "j9s2ekAMQrSk",
        "outputId": "3569f7e2-56a4-4d46-8d37-00cb6852eeab"
      },
      "execution_count": 99,
      "outputs": [
        {
          "output_type": "execute_result",
          "data": {
            "text/plain": [
              "Married\n",
              "No     3641\n",
              "Yes    3402\n",
              "Name: count, dtype: int64"
            ],
            "text/html": [
              "<table border=\"1\" class=\"dataframe\">\n",
              "  <thead>\n",
              "    <tr style=\"text-align: right;\">\n",
              "      <th></th>\n",
              "      <th>count</th>\n",
              "    </tr>\n",
              "    <tr>\n",
              "      <th>Married</th>\n",
              "      <th></th>\n",
              "    </tr>\n",
              "  </thead>\n",
              "  <tbody>\n",
              "    <tr>\n",
              "      <th>No</th>\n",
              "      <td>3641</td>\n",
              "    </tr>\n",
              "    <tr>\n",
              "      <th>Yes</th>\n",
              "      <td>3402</td>\n",
              "    </tr>\n",
              "  </tbody>\n",
              "</table><br><label><b>dtype:</b> int64</label>"
            ]
          },
          "metadata": {},
          "execution_count": 99
        }
      ]
    },
    {
      "cell_type": "code",
      "source": [
        "df.Married.value_counts().plot(kind='bar')\n",
        "plt.tight_layout()"
      ],
      "metadata": {
        "colab": {
          "base_uri": "https://localhost:8080/",
          "height": 507
        },
        "id": "3iq7J2DcQxGC",
        "outputId": "0a63dedc-3421-4589-86e0-5c8502ad152d"
      },
      "execution_count": 100,
      "outputs": [
        {
          "output_type": "display_data",
          "data": {
            "text/plain": [
              "<Figure size 640x480 with 1 Axes>"
            ],
            "image/png": "[encoded data removed]"
          },
          "metadata": {}
        }
      ]
    },
    {
      "cell_type": "code",
      "source": [
        "num_depe = np.histogram(df['Number of Dependents'])\n",
        "num_depe"
      ],
      "metadata": {
        "colab": {
          "base_uri": "https://localhost:8080/"
        },
        "id": "RElGdvZsQ_ok",
        "outputId": "6117f209-1c4d-49cf-ac5c-aa5bb553f71c"
      },
      "execution_count": 115,
      "outputs": [
        {
          "output_type": "execute_result",
          "data": {
            "text/plain": [
              "(array([5416,  553,  531,  517,    9,   10,    3,    2,    1,    1]),\n",
              " array([0. , 0.9, 1.8, 2.7, 3.6, 4.5, 5.4, 6.3, 7.2, 8.1, 9. ]))"
            ]
          },
          "metadata": {},
          "execution_count": 115
        }
      ]
    },
    {
      "cell_type": "code",
      "source": [
        "plt.figure(figsize=(20, 8))\n",
        "df['Number of Dependents'].plot(kind='hist', xticks=num_depe[1], grid=True)\n",
        "plt.tight_layout()\n",
        "plt.xlabel('Dependencies')"
      ],
      "metadata": {
        "colab": {
          "base_uri": "https://localhost:8080/",
          "height": 616
        },
        "id": "tMny6r_hRIHy",
        "outputId": "d4ea8269-e0ca-4979-a8bc-bc7395cb3130"
      },
      "execution_count": 116,
      "outputs": [
        {
          "output_type": "execute_result",
          "data": {
            "text/plain": [
              "Text(0.5, 58.7222222222222, 'Dependencies')"
            ]
          },
          "metadata": {},
          "execution_count": 116
        },
        {
          "output_type": "display_data",
          "data": {
            "text/plain": [
              "<Figure size 2000x800 with 1 Axes>"
            ],
            "image/png": "[encoded data removed]"
          },
          "metadata": {}
        }
      ]
    }
  ]
}